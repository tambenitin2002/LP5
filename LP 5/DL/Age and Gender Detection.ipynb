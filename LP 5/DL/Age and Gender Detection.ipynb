{
 "cells": [
  {
   "cell_type": "code",
   "execution_count": 17,
   "id": "59d3edf4-b47d-4cd0-843e-be11e405d4e6",
   "metadata": {},
   "outputs": [],
   "source": [
    "#Import libraries\n",
    "import numpy as np\n",
    "import pandas as pd\n",
    "import matplotlib.pyplot as plt\n",
    "import seaborn as sns"
   ]
  },
  {
   "cell_type": "code",
   "execution_count": 20,
   "id": "91e4ed78-cf54-4927-8826-c9194d1576cb",
   "metadata": {},
   "outputs": [
    {
     "ename": "SyntaxError",
     "evalue": "invalid syntax (1719813046.py, line 19)",
     "output_type": "error",
     "traceback": [
      "\u001b[1;36m  Cell \u001b[1;32mIn[20], line 19\u001b[1;36m\u001b[0m\n\u001b[1;33m    df=pd.read_csv(\"age_gender.csv\")df.head()df1= pd.DataFrame(df)\u001b[0m\n\u001b[1;37m                                    ^\u001b[0m\n\u001b[1;31mSyntaxError\u001b[0m\u001b[1;31m:\u001b[0m invalid syntax\n"
     ]
    }
   ],
   "source": [
    "#importing libraries\n",
    "\n",
    "import keras\n",
    "import json\n",
    "import sys\n",
    "import tensorflow as tf\n",
    "from keras.layers import Input\n",
    "import numpy as np\n",
    "import argparse\n",
    "from keras_applications.resnext import ResNeXt50\n",
    "from keras.utils.data_utils import get_file\n",
    "import face_recognition\n",
    "import numpy as np\n",
    "import pandas as pd\n",
    "import matplotlib.pyplot as plt\n",
    "import seaborn as sns\n",
    "import cv2\n",
    "from PIL import Image\n",
    "df=pd.read_csv(\"age_gender.csv\")df.head()df1= pd.DataFrame(df)\n",
    "df1['pixels'] = df1.pixels.apply(lambda x: np.reshape(np.array(x.split(' '),dtype='float32'),(48,48)))\n",
    "df1['pixels']= df1['pixels']/255\n",
    "im = df1['pixels'][0]\n",
    "im\n",
    "plt.imshow(im, cmap='gray')\n",
    "plt.axis('off')\n"
   ]
  },
  {
   "cell_type": "code",
   "execution_count": 18,
   "id": "94d0a1fc-ccb0-4b4c-81f1-6dddb9922e38",
   "metadata": {},
   "outputs": [
    {
     "ename": "NameError",
     "evalue": "name 'df' is not defined",
     "output_type": "error",
     "traceback": [
      "\u001b[1;31m---------------------------------------------------------------------------\u001b[0m",
      "\u001b[1;31mNameError\u001b[0m                                 Traceback (most recent call last)",
      "Cell \u001b[1;32mIn[18], line 15\u001b[0m\n\u001b[0;32m     13\u001b[0m         plt\u001b[38;5;241m.\u001b[39mtight_layout()\n\u001b[0;32m     14\u001b[0m         plt\u001b[38;5;241m.\u001b[39mshow()\n\u001b[1;32m---> 15\u001b[0m plot_data(rows\u001b[38;5;241m=\u001b[39m\u001b[38;5;241m1\u001b[39m, cols\u001b[38;5;241m=\u001b[39m\u001b[38;5;241m7\u001b[39m, lower_value\u001b[38;5;241m=\u001b[39m\u001b[38;5;241m0\u001b[39m, upper_value\u001b[38;5;241m=\u001b[39m\u001b[38;5;28mlen\u001b[39m(\u001b[43mdf\u001b[49m))\n",
      "\u001b[1;31mNameError\u001b[0m: name 'df' is not defined"
     ]
    }
   ],
   "source": [
    "def plot_data(rows, cols, lower_value, upper_value):\n",
    "    fig = plt.figure(figsize=(cols*3,rows*4))\n",
    "    for i in range(1, cols*rows + 1):\n",
    "        k = np.random.randint(lower_value,upper_value)\n",
    "        fig.add_subplot(rows, cols, i) # adding sub plot\n",
    "        gender = gender_values_to_labels[df.gender[k]]\n",
    "        ethnicity = eth_values_to_labels[df.ethnicity[k]]\n",
    "        age = df.age[k]\n",
    "        im = df.pixels[k]\n",
    "        plt.imshow(im, cmap='gray')\n",
    "        plt.axis('off')\n",
    "        plt.title(f'Gender:{gender}nAge:{age}nEthnicity:{ethnicity}')\n",
    "        plt.tight_layout()\n",
    "        plt.show()\n",
    "plot_data(rows=1, cols=7, lower_value=0, upper_value=len(df))"
   ]
  },
  {
   "cell_type": "code",
   "execution_count": 12,
   "id": "45411e3e-44cb-4e42-ae5e-d522135e3c78",
   "metadata": {},
   "outputs": [],
   "source": [
    "#To collect all the images and reshape them and check the dtype.\n",
    "\n",
    "X = np.zeros(shape=(23705,48,48))\n",
    "for i in range(len(df1[\"pixels\"])):\n",
    "    X[i] = df1[\"pixels\"][i]\n",
    "X.dtype\n",
    "Output - dtype('float64')\n",
    "#Age\n",
    "ag = df1['age']\n",
    "ag=ag.astype(float)\n",
    "ag= np.array(ag)\n",
    "ag.shape"
   ]
  },
  {
   "cell_type": "code",
   "execution_count": 13,
   "id": "23e4bb13-407f-4138-ba40-a8696a7579b0",
   "metadata": {},
   "outputs": [],
   "source": [
    "#Gender\n",
    "\n",
    "g= df1['gender']\n",
    "g=np.array(g)\n",
    "g.shape\n",
    "(23705,)\n",
    "labels_f =[]\n",
    "\n",
    "i=0\n",
    "\n",
    "while i <len(a):\n",
    "\n",
    "  label=[]\n",
    "\n",
    "  label.append([a[i]])\n",
    "\n",
    "  label.append([g[i]])\n",
    "\n",
    "  labels_f.append(label)\n",
    "\n",
    "  i+=1\n",
    "\n",
    "Both age and gender are combined and stored in labels_f, we will further convert the list into array.\n",
    "\n",
    "labels_f =np.array(labels_f)\n",
    "labels_f.shape"
   ]
  },
  {
   "cell_type": "code",
   "execution_count": 14,
   "id": "8000271e-6ba4-4ecb-be85-741393840d31",
   "metadata": {},
   "outputs": [
    {
     "ename": "NameError",
     "evalue": "name 'face' is not defined",
     "output_type": "error",
     "traceback": [
      "\u001b[1;31m---------------------------------------------------------------------------\u001b[0m",
      "\u001b[1;31mNameError\u001b[0m                                 Traceback (most recent call last)",
      "Cell \u001b[1;32mIn[14], line 7\u001b[0m\n\u001b[0;32m      3\u001b[0m fr_w \u001b[38;5;241m=\u001b[39m fr_cv\u001b[38;5;241m.\u001b[39mshape[\u001b[38;5;241m1\u001b[39m] \n\u001b[0;32m      4\u001b[0m blob \u001b[38;5;241m=\u001b[39m cv2\u001b[38;5;241m.\u001b[39mdnn\u001b[38;5;241m.\u001b[39mblobFromImage(fr_cv, \u001b[38;5;241m1.0\u001b[39m, (\u001b[38;5;241m300\u001b[39m, \u001b[38;5;241m300\u001b[39m), \n\u001b[0;32m      5\u001b[0m \t\t\t\t\t\t\t[\u001b[38;5;241m104\u001b[39m, \u001b[38;5;241m117\u001b[39m, \u001b[38;5;241m123\u001b[39m], \u001b[38;5;28;01mTrue\u001b[39;00m, \u001b[38;5;28;01mFalse\u001b[39;00m) \n\u001b[1;32m----> 7\u001b[0m \u001b[43mface\u001b[49m\u001b[38;5;241m.\u001b[39msetInput(blob) \n\u001b[0;32m      8\u001b[0m detections \u001b[38;5;241m=\u001b[39m face\u001b[38;5;241m.\u001b[39mforward()\n",
      "\u001b[1;31mNameError\u001b[0m: name 'face' is not defined"
     ]
    }
   ],
   "source": [
    "#Splitting the data taking data set\n",
    "import tensorflow as tf\n",
    "\n",
    "from sklearn.model_selection import train_test_split\n",
    "X_train, X_test, Y_train, Y_test= train_test_split(X,a,test_size=0.25)\n",
    "\n",
    "print(X_test.shape)\n",
    "\n",
    "print(X_train.shape)\n",
    "\n",
    "print(Y_test.shape)\n",
    "\n",
    "print(Y_train.shape)\n"
   ]
  },
  {
   "cell_type": "code",
   "execution_count": 15,
   "id": "51d83f07-229c-4ce9-8985-405a9ff6c2c5",
   "metadata": {},
   "outputs": [
    {
     "ename": "NameError",
     "evalue": "name 'detections' is not defined",
     "output_type": "error",
     "traceback": [
      "\u001b[1;31m---------------------------------------------------------------------------\u001b[0m",
      "\u001b[1;31mNameError\u001b[0m                                 Traceback (most recent call last)",
      "Cell \u001b[1;32mIn[15], line 3\u001b[0m\n\u001b[0;32m      1\u001b[0m \u001b[38;5;66;03m# Face bounding box creation \u001b[39;00m\n\u001b[0;32m      2\u001b[0m faceBoxes \u001b[38;5;241m=\u001b[39m [] \n\u001b[1;32m----> 3\u001b[0m \u001b[38;5;28;01mfor\u001b[39;00m i \u001b[38;5;129;01min\u001b[39;00m \u001b[38;5;28mrange\u001b[39m(\u001b[43mdetections\u001b[49m\u001b[38;5;241m.\u001b[39mshape[\u001b[38;5;241m2\u001b[39m]): \n\u001b[0;32m      4\u001b[0m \t\n\u001b[0;32m      5\u001b[0m \t\u001b[38;5;66;03m#Bounding box creation if confidence > 0.7 \u001b[39;00m\n\u001b[0;32m      6\u001b[0m \tconfidence \u001b[38;5;241m=\u001b[39m detections[\u001b[38;5;241m0\u001b[39m, \u001b[38;5;241m0\u001b[39m, i, \u001b[38;5;241m2\u001b[39m] \n\u001b[0;32m      7\u001b[0m \t\u001b[38;5;28;01mif\u001b[39;00m confidence \u001b[38;5;241m>\u001b[39m \u001b[38;5;241m0.7\u001b[39m: \n",
      "\u001b[1;31mNameError\u001b[0m: name 'detections' is not defined"
     ]
    }
   ],
   "source": [
    "Y_train_2=[Y_train[:,1],Y_train[:,0]]\n",
    "Y_test_2=[Y_test[:,1],Y_test[:,0]]"
   ]
  },
  {
   "cell_type": "code",
   "execution_count": 16,
   "id": "1ec58506-ed4f-4772-a264-c6a53082e7ce",
   "metadata": {},
   "outputs": [
    {
     "name": "stdout",
     "output_type": "stream",
     "text": [
      "No face detected\n"
     ]
    }
   ],
   "source": [
    "#Model\n",
    "\n",
    "from tensorflow.keras.layers import Dropout\n",
    "\n",
    "from tensorflow.keras.layers import Flatten,BatchNormalization\n",
    "\n",
    "from tensorflow.keras.layers import Dense, MaxPooling2D,Conv2D\n",
    "\n",
    "from tensorflow.keras.layers import Input,Activation,Add\n",
    "\n",
    "from tensorflow.keras.models import Model\n",
    "\n",
    "from tensorflow.keras.regularizers import l2\n",
    "\n",
    "from tensorflow.keras.optimizers import Adam\n",
    "\n",
    "import tensorflow as tf\n",
    "\n",
    "def Convolution(input_tensor,filters):\n",
    "\n",
    "    x = Conv2D(filters=filters,kernel_size=(3, 3),padding = 'same',strides=(1, 1),kernel_regularizer=l2(0.001))(input_tensor)\n",
    "\n",
    "    x = Dropout(0.1)(x)\n",
    "\n",
    "    x= Activation('relu')(x)\n",
    "\n",
    "    return x\n",
    "\n",
    "def model(input_shape):\n",
    "\n",
    "  inputs = Input((input_shape))\n",
    "\n",
    "  conv_1= Convolution(inputs,32)\n",
    "\n",
    "  maxp_1 = MaxPooling2D(pool_size = (2,2)) (conv_1)\n",
    "\n",
    "  conv_2 = Convolution(maxp_1,64)\n",
    "\n",
    "  maxp_2 = MaxPooling2D(pool_size = (2, 2)) (conv_2)\n",
    "\n",
    "  conv_3 = Convolution(maxp_2,128)\n",
    "\n",
    "  maxp_3 = MaxPooling2D(pool_size = (2, 2)) (conv_3)\n",
    "\n",
    "  conv_4 = Convolution(maxp_3,256)\n",
    "\n",
    "  maxp_4 = MaxPooling2D(pool_size = (2, 2)) (conv_4)\n",
    "\n",
    "  flatten= Flatten() (maxp_4)\n",
    "\n",
    "  dense_1= Dense(64,activation='relu')(flatten)\n",
    "\n",
    "  dense_2= Dense(64,activation='relu')(flatten)\n",
    "\n",
    "  drop_1=Dropout(0.2)(dense_1)\n",
    "\n",
    "  drop_2=Dropout(0.2)(dense_2)\n",
    "\n",
    "  output_1= Dense(1,activation=\"sigmoid\",name='sex_out')(drop_1)\n",
    "\n",
    "  output_2= Dense(1,activation=\"relu\",name='age_out')(drop_2)\n",
    "\n",
    "  model = Model(inputs=[inputs], outputs=[output_1,output_2])\n",
    "\n",
    "  model.compile(loss=[\"binary_crossentropy\",\"mae\"], optimizer=\"Adam\",\n",
    "\n",
    "  metrics=[\"accuracy\"])\n",
    "\n",
    "  return model"
   ]
  },
  {
   "cell_type": "code",
   "execution_count": null,
   "id": "3753f3a9-441d-4a56-8c2b-263ea4dbcbe4",
   "metadata": {},
   "outputs": [],
   "source": [
    "History=Model.fit(X_train,Y_train_2,batch_size=64,validation_data=(X_test,Y_test_2),epochs=5,callbacks=[callback_list])"
   ]
  },
  {
   "cell_type": "code",
   "execution_count": null,
   "id": "c3c7014f-2394-4e98-8e0f-5257d6c8188f",
   "metadata": {},
   "outputs": [],
   "source": [
    "Model.evaluate(X_test,Y_test_2)"
   ]
  },
  {
   "cell_type": "code",
   "execution_count": null,
   "id": "25f3c558-c611-4ec6-8cd1-ef5a9dd0a6b0",
   "metadata": {},
   "outputs": [],
   "source": [
    "pred=Model.predict(X_test)\n",
    "pred[1]"
   ]
  },
  {
   "cell_type": "code",
   "execution_count": null,
   "id": "ceb63891-a682-4508-86b0-7a976bc5fba3",
   "metadata": {},
   "outputs": [],
   "source": [
    "#Plot the image\n",
    "\n",
    "def test_image(ind,X,Model):\n",
    "\n",
    "  plt.imshow(X[ind])\n",
    "\n",
    "  image_test=X[ind]\n",
    "\n",
    "  pred_1=Model.predict(np.array([image_test]))\n",
    "\n",
    "  sex_f=['Female','Male']\n",
    "\n",
    "  age=int(np.round(pred_1[1][0]))\n",
    "\n",
    "  sex=int(np.round(pred_1[0][0]))\n",
    "\n",
    "  print(\"Predicted Age: \"+ str(age))\n",
    "\n",
    "  print(\"Predicted Sex: \"+ sex_f[sex])\n",
    "\n",
    "test_image(1980,X, Model)\n"
   ]
  },
  {
   "cell_type": "code",
   "execution_count": null,
   "id": "918ee264-3c59-4609-ac5c-c1343785d517",
   "metadata": {},
   "outputs": [],
   "source": []
  },
  {
   "cell_type": "code",
   "execution_count": null,
   "id": "bcc9f50c-9f59-490b-8439-22f0175cd5ba",
   "metadata": {},
   "outputs": [],
   "source": []
  },
  {
   "cell_type": "code",
   "execution_count": null,
   "id": "161ab029-d328-49e3-b010-d1acf165b1e2",
   "metadata": {},
   "outputs": [],
   "source": []
  }
 ],
 "metadata": {
  "kernelspec": {
   "display_name": "Python 3 (ipykernel)",
   "language": "python",
   "name": "python3"
  },
  "language_info": {
   "codemirror_mode": {
    "name": "ipython",
    "version": 3
   },
   "file_extension": ".py",
   "mimetype": "text/x-python",
   "name": "python",
   "nbconvert_exporter": "python",
   "pygments_lexer": "ipython3",
   "version": "3.10.7"
  }
 },
 "nbformat": 4,
 "nbformat_minor": 5
}
